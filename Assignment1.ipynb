{
 "cells": [
  {
   "cell_type": "code",
   "execution_count": null,
   "metadata": {},
   "outputs": [],
   "source": [
    "!py -m pip install BeautifulSoup4\n",
    "!py -m pip install requests"
   ]
  },
  {
   "cell_type": "code",
   "execution_count": 1,
   "metadata": {},
   "outputs": [],
   "source": [
    "from bs4 import BeautifulSoup\n",
    "import requests\n",
    "\n",
    "BASE_URL = 'https://en.wikipedia.org'\n",
    "URL = '/wiki/List_of_highest-grossing_films'\n",
    "HEADERS = {'User-Agent': 'Mozilla/5.0'}\n",
    "\n",
    "response = requests.get(BASE_URL + URL, headers=HEADERS)\n",
    "soup = BeautifulSoup(response.content, \"html.parser\")\n",
    "\n",
    "table = soup.select_one('table', {'class': 'wikitable sortable plainrowheaders sticky-header col4right col5center col6center jquery-tablesorter'})\n",
    "# print(table)\n"
   ]
  },
  {
   "cell_type": "code",
   "execution_count": 2,
   "metadata": {},
   "outputs": [],
   "source": [
    "import time \n",
    "\n",
    "def get_more_data(link):\n",
    "    time.sleep(1) \n",
    "    response = requests.get(BASE_URL + link, headers=HEADERS)\n",
    "    soup = BeautifulSoup(response.content, \"html.parser\")\n",
    "\n",
    "    table = soup.select_one('table.infobox.vevent')\n",
    "    \n",
    "    director = revenue = country = language = None\n",
    "    for i in table.select('tr')[2:]:\n",
    "        arg = i.select('th')\n",
    "        if not arg:\n",
    "            continue\n",
    "        else:\n",
    "            arg = i.find('th').get_text(strip=True)\n",
    "            if arg == 'Directed by':\n",
    "                director = i.find('td').get_text(strip=True)\n",
    "            if arg == 'Box office':\n",
    "                revenue = i.find('td').get_text(strip=True)\n",
    "            if arg == 'Countries' or arg == 'Country':\n",
    "                country = i.find('td').get_text(strip=True)\n",
    "            if arg == 'Language':\n",
    "                language = i.find('td').get_text(strip=True)\n",
    "    return director, revenue, country, language"
   ]
  },
  {
   "cell_type": "code",
   "execution_count": 3,
   "metadata": {},
   "outputs": [],
   "source": [
    "movies = []\n",
    "for row in table.select(\"tr\")[1:]:\n",
    "    columns = row.find_all('td')\n",
    "    title = row.find('th').find('a').get_text(strip=True)\n",
    "    # print(title)\n",
    "    year = columns[3].get_text(strip=True)\n",
    "    link = row.find('th').find('a')['href']\n",
    "\n",
    "    director, revenue, country, language = get_more_data(link)\n",
    "    \n",
    "    movie = {'title': title, 'year': year, 'director': director, 'revenue': revenue, 'country': country, 'language': language}\n",
    "\n",
    "    movies.append(movie)"
   ]
  },
  {
   "cell_type": "code",
   "execution_count": 4,
   "metadata": {},
   "outputs": [],
   "source": [
    "import re\n",
    "\n",
    "def clean_wikipedia_text(text):\n",
    "    cleaned = re.sub(r'\\[\\w+\\]', '', text)\n",
    "    cleaned = re.sub(r'([a-z])([A-Z])', r'\\1, \\2', cleaned)\n",
    "    cleaned = re.sub(r'[\\$€£]', '', cleaned)\n",
    "\n",
    "    return cleaned.strip()\n",
    "\n",
    "def clean_movie_data(movie):\n",
    "    for key, value in movie.items():\n",
    "        if isinstance(value, str):\n",
    "            movie[key] = clean_wikipedia_text(value)\n",
    "        elif isinstance(value, list):\n",
    "            movie[key] = [clean_wikipedia_text(v) for v in value]\n",
    "    return movie\n",
    "\n",
    "for movie in movies:\n",
    "    clean_movie_data(movie)\n"
   ]
  },
  {
   "cell_type": "code",
   "execution_count": 5,
   "metadata": {},
   "outputs": [],
   "source": [
    "import sqlite3\n",
    "\n",
    "conn = sqlite3.connect('films.db')\n",
    "cursor = conn.cursor()\n",
    "\n",
    "cursor.execute('''\n",
    "CREATE TABLE IF NOT EXISTS films (\n",
    "    id INTEGER PRIMARY KEY AUTOINCREMENT,\n",
    "    title TEXT NOT NULL,\n",
    "    release_year INTEGER,\n",
    "    director TEXT,\n",
    "    box_office TEXT,\n",
    "    country TEXT,\n",
    "    language TEXT\n",
    ")\n",
    "''')\n",
    "conn.commit()\n",
    "\n",
    "for movie in movies:\n",
    "    cursor.execute('''\n",
    "    INSERT INTO films (title, release_year, director, box_office, country, language)\n",
    "    VALUES (?, ?, ?, ?, ?, ?)\n",
    "    ''', (\n",
    "        movie['title'],\n",
    "        movie['year'],\n",
    "        movie.get('director', 'Unknown'),\n",
    "        movie.get('revenue', 'N/A'),\n",
    "        movie.get('country', 'Unknown'),\n",
    "        movie.get('language', 'Unknown')\n",
    "    ))\n",
    "\n",
    "conn.commit()\n",
    "conn.close()\n"
   ]
  },
  {
   "cell_type": "code",
   "execution_count": 6,
   "metadata": {},
   "outputs": [],
   "source": [
    "import json\n",
    "\n",
    "with sqlite3.connect('films.db') as conn:\n",
    "    cursor = conn.cursor()\n",
    "    cursor.execute('SELECT * FROM films')\n",
    "    data = cursor.fetchall()\n",
    "\n",
    "json_data = []\n",
    "for row in data:\n",
    "    json_data.append({\n",
    "        \"id\": row[0],\n",
    "        \"title\": row[1],\n",
    "        \"release_year\": row[2],\n",
    "        \"director\": row[3],\n",
    "        \"box_office\": row[4],\n",
    "        \"country\": row[5]\n",
    "    })\n",
    "\n",
    "with open('films.json', 'w', encoding='utf-8') as f:\n",
    "    json.dump(json_data, f, ensure_ascii=False, indent=4)\n",
    "\n"
   ]
  }
 ],
 "metadata": {
  "kernelspec": {
   "display_name": "Python 3",
   "language": "python",
   "name": "python3"
  },
  "language_info": {
   "codemirror_mode": {
    "name": "ipython",
    "version": 3
   },
   "file_extension": ".py",
   "mimetype": "text/x-python",
   "name": "python",
   "nbconvert_exporter": "python",
   "pygments_lexer": "ipython3",
   "version": "3.12.6"
  }
 },
 "nbformat": 4,
 "nbformat_minor": 2
}
